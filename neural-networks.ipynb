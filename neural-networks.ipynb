{
 "cells": [
  {
   "cell_type": "code",
   "execution_count": 1,
   "metadata": {},
   "outputs": [],
   "source": [
    "import math\n",
    "import numpy as np\n",
    "import pandas as pd"
   ]
  },
  {
   "cell_type": "code",
   "execution_count": 2,
   "metadata": {},
   "outputs": [],
   "source": [
    "def sigmoid(x):\n",
    "    return 1 / (1 + np.exp(-x))\n",
    "\n",
    "def sigmoid_derivative(x):\n",
    "    return sigmoid(x) * (1 - sigmoid(x))"
   ]
  },
  {
   "cell_type": "code",
   "execution_count": 32,
   "metadata": {},
   "outputs": [],
   "source": [
    "class NeuralNetwork():\n",
    "    def __init__(self, x_shape, y_shape, n_node=4):\n",
    "        self.weights1 = np.random.rand(x_shape[1], n_node)\n",
    "        self.weights2 = np.random.rand(n_node, y_shape[1])\n",
    "        self.output = np.zeros(y_shape[1])\n",
    "    \n",
    "    def feedforward(self, x):\n",
    "        self.input = x\n",
    "        self.layer1 = sigmoid(np.dot(self.input, self.weights1))\n",
    "        self.output = sigmoid(np.dot(self.layer1, self.weights2))\n",
    "        \n",
    "    def backpropagation(self, y, learning_rate):\n",
    "        self.y = y\n",
    "        # application of the chain rule to find derivative of the loss function with respect to weights2 and weights1\n",
    "        self.d_weights2 = np.dot(self.layer1.T, (2*(self.y - self.output) * sigmoid_derivative(self.output)))\n",
    "        self.d_weights1 = np.dot(self.input.T,  (np.dot(2*(self.y - self.output) * sigmoid_derivative(self.output), self.weights2.T) * sigmoid_derivative(self.layer1)))\n",
    "\n",
    "        # update the weights with the derivative (slope) of the loss function\n",
    "        self.weights1 += self.d_weights1*learning_rate\n",
    "        self.weights2 += self.d_weights2*learning_rate\n",
    "    \n",
    "    def calculate_loss(self):\n",
    "        # using sum of square error\n",
    "        loss = np.dot((self.y - self.output).T, (self.y - self.output))[0][0]\n",
    "        return loss\n",
    "    \n",
    "    def train(self, x_data, y_data, epochs, learning_rate=0.01):\n",
    "        history = {'loss':[], 'epochs': []}\n",
    "        for i in range(epochs):\n",
    "            self.feedforward(x_data)\n",
    "            self.backpropagation(y_data, learning_rate)\n",
    "            loss = self.calculate_loss()\n",
    "            history['loss'].append(loss)\n",
    "            history['epochs'].append(i)\n",
    "            print('epoch {} ==> loss: {:.3f}'.format(i+1, loss))\n",
    "        return history\n",
    "    \n",
    "    def predict(self, x):\n",
    "        self.feedforward(x)\n",
    "        return self.output"
   ]
  },
  {
   "cell_type": "code",
   "execution_count": 4,
   "metadata": {},
   "outputs": [
    {
     "data": {
      "text/html": [
       "<div>\n",
       "<style scoped>\n",
       "    .dataframe tbody tr th:only-of-type {\n",
       "        vertical-align: middle;\n",
       "    }\n",
       "\n",
       "    .dataframe tbody tr th {\n",
       "        vertical-align: top;\n",
       "    }\n",
       "\n",
       "    .dataframe thead th {\n",
       "        text-align: right;\n",
       "    }\n",
       "</style>\n",
       "<table border=\"1\" class=\"dataframe\">\n",
       "  <thead>\n",
       "    <tr style=\"text-align: right;\">\n",
       "      <th></th>\n",
       "      <th>x1</th>\n",
       "      <th>x2</th>\n",
       "      <th>x3</th>\n",
       "      <th>y</th>\n",
       "    </tr>\n",
       "  </thead>\n",
       "  <tbody>\n",
       "    <tr>\n",
       "      <th>0</th>\n",
       "      <td>1</td>\n",
       "      <td>1</td>\n",
       "      <td>1</td>\n",
       "      <td>1</td>\n",
       "    </tr>\n",
       "    <tr>\n",
       "      <th>1</th>\n",
       "      <td>0</td>\n",
       "      <td>0</td>\n",
       "      <td>0</td>\n",
       "      <td>0</td>\n",
       "    </tr>\n",
       "    <tr>\n",
       "      <th>2</th>\n",
       "      <td>0</td>\n",
       "      <td>1</td>\n",
       "      <td>1</td>\n",
       "      <td>0</td>\n",
       "    </tr>\n",
       "    <tr>\n",
       "      <th>3</th>\n",
       "      <td>1</td>\n",
       "      <td>0</td>\n",
       "      <td>1</td>\n",
       "      <td>1</td>\n",
       "    </tr>\n",
       "    <tr>\n",
       "      <th>4</th>\n",
       "      <td>1</td>\n",
       "      <td>0</td>\n",
       "      <td>0</td>\n",
       "      <td>0</td>\n",
       "    </tr>\n",
       "    <tr>\n",
       "      <th>5</th>\n",
       "      <td>1</td>\n",
       "      <td>1</td>\n",
       "      <td>0</td>\n",
       "      <td>1</td>\n",
       "    </tr>\n",
       "  </tbody>\n",
       "</table>\n",
       "</div>"
      ],
      "text/plain": [
       "   x1  x2  x3  y\n",
       "0   1   1   1  1\n",
       "1   0   0   0  0\n",
       "2   0   1   1  0\n",
       "3   1   0   1  1\n",
       "4   1   0   0  0\n",
       "5   1   1   0  1"
      ]
     },
     "execution_count": 4,
     "metadata": {},
     "output_type": "execute_result"
    }
   ],
   "source": [
    "# For demonstration, we will use dummy data\n",
    "# suppose that we want to model binary equation y = x1 and (x2 or x3)\n",
    "x1 = [1, 0, 0, 1, 1, 1]\n",
    "x2 = [1, 0, 1, 0, 0, 1]\n",
    "x3 = [1, 0, 1, 1, 0, 0]\n",
    "y = [1, 0, 0, 1, 0, 1]\n",
    "dataset = pd.DataFrame({'x1': x1, 'x2': x2, 'x3': x3, 'y': y})\n",
    "dataset"
   ]
  },
  {
   "cell_type": "code",
   "execution_count": 5,
   "metadata": {},
   "outputs": [
    {
     "name": "stdout",
     "output_type": "stream",
     "text": [
      "x_data:\n",
      " (6, 3)\n",
      "y_data:\n",
      " (6, 1)\n"
     ]
    }
   ],
   "source": [
    "x_data = dataset[['x1', 'x2', 'x3']].to_numpy()\n",
    "y_data = dataset['y'].to_numpy().reshape(-1, 1)\n",
    "print('x_data:\\n', x_data.shape)\n",
    "print('y_data:\\n', y_data.shape)"
   ]
  },
  {
   "cell_type": "code",
   "execution_count": 6,
   "metadata": {},
   "outputs": [
    {
     "name": "stdout",
     "output_type": "stream",
     "text": [
      "[0.5 0.5 0.5]\n",
      "[0.25 0.25 0.25]\n"
     ]
    }
   ],
   "source": [
    "x = x_data[1]\n",
    "print(sigmoid(x))\n",
    "print(sigmoid_derivative(x))"
   ]
  },
  {
   "cell_type": "code",
   "execution_count": 57,
   "metadata": {},
   "outputs": [
    {
     "name": "stdout",
     "output_type": "stream",
     "text": [
      "epoch 1 ==> loss: 1.762\n",
      "epoch 2 ==> loss: 1.563\n",
      "epoch 3 ==> loss: 1.539\n",
      "epoch 4 ==> loss: 1.506\n",
      "epoch 5 ==> loss: 1.496\n",
      "epoch 6 ==> loss: 1.484\n",
      "epoch 7 ==> loss: 1.479\n",
      "epoch 8 ==> loss: 1.473\n",
      "epoch 9 ==> loss: 1.470\n",
      "epoch 10 ==> loss: 1.466\n",
      "epoch 11 ==> loss: 1.463\n",
      "epoch 12 ==> loss: 1.459\n",
      "epoch 13 ==> loss: 1.456\n",
      "epoch 14 ==> loss: 1.452\n",
      "epoch 15 ==> loss: 1.448\n",
      "epoch 16 ==> loss: 1.443\n",
      "epoch 17 ==> loss: 1.438\n",
      "epoch 18 ==> loss: 1.432\n",
      "epoch 19 ==> loss: 1.426\n",
      "epoch 20 ==> loss: 1.418\n",
      "epoch 21 ==> loss: 1.410\n",
      "epoch 22 ==> loss: 1.399\n",
      "epoch 23 ==> loss: 1.388\n",
      "epoch 24 ==> loss: 1.374\n",
      "epoch 25 ==> loss: 1.358\n",
      "epoch 26 ==> loss: 1.339\n",
      "epoch 27 ==> loss: 1.318\n",
      "epoch 28 ==> loss: 1.294\n",
      "epoch 29 ==> loss: 1.267\n",
      "epoch 30 ==> loss: 1.239\n",
      "epoch 31 ==> loss: 1.209\n",
      "epoch 32 ==> loss: 1.179\n",
      "epoch 33 ==> loss: 1.150\n",
      "epoch 34 ==> loss: 1.123\n",
      "epoch 35 ==> loss: 1.099\n",
      "epoch 36 ==> loss: 1.077\n",
      "epoch 37 ==> loss: 1.060\n",
      "epoch 38 ==> loss: 1.046\n",
      "epoch 39 ==> loss: 1.035\n",
      "epoch 40 ==> loss: 1.027\n",
      "epoch 41 ==> loss: 1.021\n",
      "epoch 42 ==> loss: 1.016\n",
      "epoch 43 ==> loss: 1.012\n",
      "epoch 44 ==> loss: 1.008\n",
      "epoch 45 ==> loss: 1.003\n",
      "epoch 46 ==> loss: 0.998\n",
      "epoch 47 ==> loss: 0.991\n",
      "epoch 48 ==> loss: 0.983\n",
      "epoch 49 ==> loss: 0.973\n",
      "epoch 50 ==> loss: 0.963\n"
     ]
    }
   ],
   "source": [
    "NN_model = NeuralNetwork(x_data.shape, y_data.shape, n_node=5)\n",
    "history = NN_model.train(x_data, y_data, epochs=50, learning_rate=1)"
   ]
  },
  {
   "cell_type": "code",
   "execution_count": 58,
   "metadata": {},
   "outputs": [
    {
     "data": {
      "image/png": "[encoded data removed]",
      "text/plain": [
       "<Figure size 700x500 with 1 Axes>"
      ]
     },
     "metadata": {},
     "output_type": "display_data"
    }
   ],
   "source": [
    "from matplotlib import pyplot as plt\n",
    "\n",
    "fig, ax = plt.subplots(1,1, figsize=(7, 5))\n",
    "ax.plot(history['epochs'], history['loss'])\n",
    "ax.set_xlabel('epochs')\n",
    "ax.set_ylabel('loss')\n",
    "ax.set_title('Loss curve')\n",
    "ax.grid()"
   ]
  },
  {
   "cell_type": "code",
   "execution_count": 62,
   "metadata": {},
   "outputs": [
    {
     "data": {
      "text/plain": [
       "array([0.66379765])"
      ]
     },
     "execution_count": 62,
     "metadata": {},
     "output_type": "execute_result"
    }
   ],
   "source": [
    "# prediction\n",
    "NN_model.predict([1, 1, 1])"
   ]
  },
  {
   "cell_type": "code",
   "execution_count": null,
   "metadata": {},
   "outputs": [],
   "source": []
  }
 ],
 "metadata": {
  "kernelspec": {
   "display_name": "Python 3 (ipykernel)",
   "language": "python",
   "name": "python3"
  },
  "language_info": {
   "codemirror_mode": {
    "name": "ipython",
    "version": 3
   },
   "file_extension": ".py",
   "mimetype": "text/x-python",
   "name": "python",
   "nbconvert_exporter": "python",
   "pygments_lexer": "ipython3",
   "version": "3.8.5"
  },
  "vscode": {
   "interpreter": {
    "hash": "cef3df72947196d6cdf2243885edd57af02b1bf0a0e04e62c976a9850607f2f5"
   }
  }
 },
 "nbformat": 4,
 "nbformat_minor": 2
}
